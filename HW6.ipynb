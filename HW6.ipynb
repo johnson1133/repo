print("It hard to use Github")
